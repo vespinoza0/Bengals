{
 "cells": [
  {
   "cell_type": "code",
   "execution_count": 15,
   "id": "fe0e2ffd-456b-4435-bd8b-5b87b81f252e",
   "metadata": {},
   "outputs": [],
   "source": [
    "import boto3 \n",
    "import botocore\n",
    "from creds import access_key_id,secret_access_key, bucket_name\n",
    "\n",
    "# download file from aws s3 to local\n",
    "def get_txt(s3, key):\n",
    "    try:\n",
    "        s3.Bucket(bucket_name).download_file(key, key)\n",
    "    except botocore.exceptions.ClientError as e:\n",
    "        if e.response['Error']['Code'] == '404':\n",
    "            print('object does not exist')\n",
    "        else:\n",
    "            raise\n",
    "\n",
    "# aws s3 authentication\n",
    "s3 = boto3.resource(\n",
    "    's3',\n",
    "    aws_access_key_id=access_key_id,\n",
    "    aws_secret_access_key=secret_access_key,\n",
    ")\n",
    "\n",
    "get_txt(s3,'bengals.csv')\n",
    "get_txt(s3,'boyd_receiving.csv')\n",
    "get_txt(s3,'chase_receiving.csv')\n",
    "get_txt(s3,'higgins_receiving.csv')\n",
    "\n"
   ]
  },
  {
   "cell_type": "code",
   "execution_count": null,
   "id": "42206fb6-38c2-4520-8a04-53e5fb229110",
   "metadata": {},
   "outputs": [],
   "source": []
  }
 ],
 "metadata": {
  "kernelspec": {
   "display_name": "Python 3 (ipykernel)",
   "language": "python",
   "name": "python3"
  },
  "language_info": {
   "codemirror_mode": {
    "name": "ipython",
    "version": 3
   },
   "file_extension": ".py",
   "mimetype": "text/x-python",
   "name": "python",
   "nbconvert_exporter": "python",
   "pygments_lexer": "ipython3",
   "version": "3.11.4"
  }
 },
 "nbformat": 4,
 "nbformat_minor": 5
}
