{
 "cells": [
  {
   "cell_type": "code",
   "execution_count": 6,
   "id": "fe0e2ffd-456b-4435-bd8b-5b87b81f252e",
   "metadata": {},
   "outputs": [],
   "source": [
    "import boto3 \n",
    "import botocore\n",
    "from creds import access_key_id,secret_access_key, bucket_name\n",
    "import pandas as pd\n",
    "\n",
    "# download file from aws s3 to local\n",
    "def get_txt(s3, key):\n",
    "    try:\n",
    "        s3.Bucket(bucket_name).download_file(key, key)\n",
    "    except botocore.exceptions.ClientError as e:\n",
    "        if e.response['Error']['Code'] == '404':\n",
    "            print('object does not exist')\n",
    "        else:\n",
    "            raise\n",
    "\n",
    "# aws s3 authentication\n",
    "s3 = boto3.resource(\n",
    "    's3',\n",
    "    aws_access_key_id=access_key_id,\n",
    "    aws_secret_access_key=secret_access_key,\n",
    ")\n",
    "\n",
    "#3. Use given credentials to download the following four CSV files from the ‘mindex-data-analytics-code-challenge’ S3 bucket.\n",
    "get_txt(s3,'bengals.csv')\n",
    "get_txt(s3,'boyd_receiving.csv')\n",
    "get_txt(s3,'chase_receiving.csv')\n",
    "get_txt(s3,'higgins_receiving.csv')\n",
    "\n",
    "# 4. Use the pandas library to load each CSV into its own dataframe.\n",
    "bengals = pd.read_csv('bengals.csv')\n",
    "boyd = pd.read_csv('boyd_receiving.csv')\n",
    "chase = pd.read_csv('chase_receiving.csv')\n",
    "higgins = pd.read_csv('higgins_receiving.csv')\n",
    "\n",
    "# 5. Join/Merge all of the dataframes together to display one global table\n",
    "# add player\n",
    "boyd['player']= 'boyd'\n",
    "chase['player']= 'chase'\n",
    "higgins['player']= 'higgins'\n",
    "# append all player data\n",
    "players = pd.concat([boyd,chase,higgins]) \n",
    "# make global table by left join on week \n",
    "global_table = players.merge(bengals, how='left', on='Week')\n",
    "\n",
    "\n",
    "# 6. Replace the ‘1.0’ or ‘0.0’ values in the Result field to display ‘Win’ or ‘Loss’, respectively.\n",
    "win_loss_map = {0.0:'Loss', 1.0:'Win'}\n",
    "global_table = global_table.replace({\"Result\": win_loss_map})\n"
   ]
  },
  {
   "cell_type": "code",
   "execution_count": null,
   "id": "42206fb6-38c2-4520-8a04-53e5fb229110",
   "metadata": {},
   "outputs": [],
   "source": []
  }
 ],
 "metadata": {
  "kernelspec": {
   "display_name": "Python 3 (ipykernel)",
   "language": "python",
   "name": "python3"
  },
  "language_info": {
   "codemirror_mode": {
    "name": "ipython",
    "version": 3
   },
   "file_extension": ".py",
   "mimetype": "text/x-python",
   "name": "python",
   "nbconvert_exporter": "python",
   "pygments_lexer": "ipython3",
   "version": "3.11.4"
  }
 },
 "nbformat": 4,
 "nbformat_minor": 5
}
