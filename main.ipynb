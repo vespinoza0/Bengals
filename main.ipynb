{
 "cells": [
  {
   "cell_type": "code",
   "execution_count": 9,
   "id": "fe0e2ffd-456b-4435-bd8b-5b87b81f252e",
   "metadata": {},
   "outputs": [
    {
     "name": "stdout",
     "output_type": "stream",
     "text": [
      "done!\n"
     ]
    }
   ],
   "source": [
    "import boto3 \n",
    "import botocore\n",
    "from creds import access_key_id,secret_access_key, bucket_name, database\n",
    "import pandas as pd\n",
    "from sqlalchemy import create_engine\n",
    "\n",
    "# download file from aws s3 to local\n",
    "def get_txt(s3,bucket_name, filename):\n",
    "    try:\n",
    "        s3.Bucket(bucket_name).download_file(filename, filename)\n",
    "    except botocore.exceptions.ClientError as e:\n",
    "        if e.response['Error']['Code'] == '404':\n",
    "            print('object does not exist')\n",
    "        else:\n",
    "            raise\n",
    "            \n",
    "# MAIN: download data files from s3, transform into one global table and write to postgres DB           \n",
    "def main():\n",
    "    # aws s3 authentication\n",
    "    s3 = boto3.resource(\n",
    "        's3',\n",
    "        aws_access_key_id=access_key_id,\n",
    "        aws_secret_access_key=secret_access_key,\n",
    "    )\n",
    "\n",
    "    #3. Use given credentials to download the following four CSV files from the ‘mindex-data-analytics-code-challenge’ S3 bucket.\n",
    "    get_txt(s3, bucket_name,'bengals.csv')\n",
    "    get_txt(s3, bucket_name,'boyd_receiving.csv')\n",
    "    get_txt(s3, bucket_name,'chase_receiving.csv')\n",
    "    get_txt(s3, bucket_name,'higgins_receiving.csv')\n",
    "\n",
    "    # 4. Use the pandas library to load each CSV into its own dataframe.\n",
    "    bengals = pd.read_csv('bengals.csv')\n",
    "    boyd = pd.read_csv('boyd_receiving.csv')\n",
    "    chase = pd.read_csv('chase_receiving.csv')\n",
    "    higgins = pd.read_csv('higgins_receiving.csv')\n",
    "\n",
    "    # 5. Join/Merge all of the dataframes together to display one global table\n",
    "    # add player column to dataframes\n",
    "    boyd['player'] = 'boyd'\n",
    "    chase['player'] = 'chase'\n",
    "    higgins['player'] = 'higgins'\n",
    "    # append all player data into one dataframe\n",
    "    players = pd.concat([boyd,chase,higgins]) \n",
    "    # make global table by outer join on week \n",
    "    global_table = players.merge(bengals, how='outer', on='Week')\n",
    "\n",
    "    # 6. Replace the ‘1.0’ or ‘0.0’ values in the Result field to display ‘Win’ or ‘Loss’, respectively.\n",
    "    win_loss_map = {0.0:'Loss', 1.0:'Win'}\n",
    "    global_table = global_table.replace({\"Result\": win_loss_map})\n",
    "\n",
    "    #7. Write the dataframe to a postgresql DB \n",
    "    engine = create_engine('postgresql://{username}:{password}@{host}:5432/{database}'.format(\n",
    "                    username=database.get('username'),\n",
    "                    password=database.get('password'),\n",
    "                    host=database.get('host'),\n",
    "                    database=database.get('database')\n",
    "                    ))\n",
    "    # write to postgres table\n",
    "    global_table.to_sql(database.get('username'), engine,if_exists='replace')\n",
    "    print('done!')\n",
    "\n",
    "if __name__ == \"__main__\":\n",
    "    main()\n"
   ]
  },
  {
   "cell_type": "code",
   "execution_count": null,
   "id": "42206fb6-38c2-4520-8a04-53e5fb229110",
   "metadata": {},
   "outputs": [],
   "source": []
  },
  {
   "cell_type": "code",
   "execution_count": null,
   "id": "81288af3-90f2-436a-bf3c-95983291d000",
   "metadata": {},
   "outputs": [],
   "source": []
  },
  {
   "cell_type": "code",
   "execution_count": null,
   "id": "8f2a81c0-5c80-48db-b725-7900b18968f4",
   "metadata": {},
   "outputs": [],
   "source": []
  }
 ],
 "metadata": {
  "kernelspec": {
   "display_name": "Python 3 (ipykernel)",
   "language": "python",
   "name": "python3"
  },
  "language_info": {
   "codemirror_mode": {
    "name": "ipython",
    "version": 3
   },
   "file_extension": ".py",
   "mimetype": "text/x-python",
   "name": "python",
   "nbconvert_exporter": "python",
   "pygments_lexer": "ipython3",
   "version": "3.11.4"
  }
 },
 "nbformat": 4,
 "nbformat_minor": 5
}
